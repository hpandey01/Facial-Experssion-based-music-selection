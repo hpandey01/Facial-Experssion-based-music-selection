{
 "cells": [
  {
   "cell_type": "code",
   "execution_count": 52,
   "metadata": {},
   "outputs": [],
   "source": [
    "import os\n",
    "import tensorflow as tf\n",
    "from tensorflow.keras import layers\n",
    "from tensorflow.keras import Model\n",
    "from tensorflow.keras.optimizers import RMSprop\n",
    "from tensorflow.keras.preprocessing.image import ImageDataGenerator\n",
    "import PIL\n",
    "from PIL import Image\n",
    "from tensorflow.keras.preprocessing import image\n",
    "import numpy as np"
   ]
  },
  {
   "cell_type": "code",
   "execution_count": 53,
   "metadata": {},
   "outputs": [],
   "source": [
    "class Callback(tf.keras.callbacks.Callback):\n",
    "    def on_epoch_end(self, epoch, logs={}):\n",
    "        if(logs.get('acc')>0.99):\n",
    "            self.model.stop_training = True\n",
    "            \n",
    "callback = Callback()"
   ]
  },
  {
   "cell_type": "code",
   "execution_count": 54,
   "metadata": {},
   "outputs": [],
   "source": [
    "model = tf.keras.models.Sequential([\n",
    "        tf.keras.layers.Conv2D(32, (3,3), activation='relu', input_shape=(48,48,3)),\n",
    "        tf.keras.layers.MaxPooling2D(2,2),\n",
    "        tf.keras.layers.Conv2D(32, (3,3), activation='relu'),\n",
    "        tf.keras.layers.MaxPooling2D(2,2),\n",
    "        tf.keras.layers.Conv2D(32, (3,3), activation='relu'),\n",
    "        tf.keras.layers.MaxPooling2D(2,2),\n",
    "        tf.keras.layers.Flatten(),\n",
    "        tf.keras.layers.Dense(128, activation='relu'),\n",
    "        tf.keras.layers.Dense(5, activation='softmax')\n",
    "])"
   ]
  },
  {
   "cell_type": "code",
   "execution_count": 55,
   "metadata": {},
   "outputs": [],
   "source": [
    "model.compile(optimizer = RMSprop(lr=0.001), loss = 'categorical_crossentropy', metrics = ['acc'])"
   ]
  },
  {
   "cell_type": "code",
   "execution_count": 56,
   "metadata": {},
   "outputs": [
    {
     "name": "stdout",
     "output_type": "stream",
     "text": [
      "Found 24176 images belonging to 5 classes.\n"
     ]
    }
   ],
   "source": [
    "train = ImageDataGenerator(rescale=1.0/255,\n",
    "                                  rotation_range=40,\n",
    "                                  width_shift_range=0.2,\n",
    "                                  height_shift_range=0.2,\n",
    "                                  shear_range=0.2,\n",
    "                                  zoom_range=0.2,\n",
    "                                  horizontal_flip=True,\n",
    "                                  fill_mode='nearest')\n",
    "\n",
    "train_generator = train.flow_from_directory(\n",
    "                    './archive/train',\n",
    "                    batch_size=64,\n",
    "                    target_size=(48,48),\n",
    "                    class_mode='categorical')"
   ]
  },
  {
   "cell_type": "code",
   "execution_count": 57,
   "metadata": {},
   "outputs": [
    {
     "name": "stdout",
     "output_type": "stream",
     "text": [
      "Found 6043 images belonging to 5 classes.\n"
     ]
    }
   ],
   "source": [
    "validation = ImageDataGenerator(rescale=1.0/255)\n",
    "\n",
    "validation_generator = validation.flow_from_directory(\n",
    "                        './archive/test',\n",
    "                        batch_size=64,\n",
    "                        target_size=(48,48),\n",
    "                        class_mode='categorical')"
   ]
  },
  {
   "cell_type": "code",
   "execution_count": 59,
   "metadata": {},
   "outputs": [
    {
     "name": "stdout",
     "output_type": "stream",
     "text": [
      "WARNING:tensorflow:sample_weight modes were coerced from\n",
      "  ...\n",
      "    to  \n",
      "  ['...']\n",
      "WARNING:tensorflow:sample_weight modes were coerced from\n",
      "  ...\n",
      "    to  \n",
      "  ['...']\n",
      "Train for 377 steps, validate for 94 steps\n",
      "Epoch 1/50\n",
      "377/377 [==============================] - 80s 213ms/step - loss: 1.5141 - acc: 0.3223 - val_loss: 1.4437 - val_acc: 0.3740\n",
      "Epoch 2/50\n",
      "377/377 [==============================] - 80s 211ms/step - loss: 1.4838 - acc: 0.3460 - val_loss: 1.3898 - val_acc: 0.4087\n",
      "Epoch 3/50\n",
      "377/377 [==============================] - 74s 196ms/step - loss: 1.4551 - acc: 0.3632 - val_loss: 1.2992 - val_acc: 0.4639\n",
      "Epoch 4/50\n",
      "377/377 [==============================] - 79s 211ms/step - loss: 1.4211 - acc: 0.3887 - val_loss: 1.2759 - val_acc: 0.4619\n",
      "Epoch 5/50\n",
      "377/377 [==============================] - 77s 205ms/step - loss: 1.3738 - acc: 0.4151 - val_loss: 1.2649 - val_acc: 0.4830\n",
      "Epoch 6/50\n",
      "377/377 [==============================] - 74s 196ms/step - loss: 1.3341 - acc: 0.4394 - val_loss: 1.2231 - val_acc: 0.5048\n",
      "Epoch 7/50\n",
      "377/377 [==============================] - 79s 210ms/step - loss: 1.3003 - acc: 0.4589 - val_loss: 1.1762 - val_acc: 0.5284\n",
      "Epoch 8/50\n",
      "377/377 [==============================] - 79s 209ms/step - loss: 1.2743 - acc: 0.4725 - val_loss: 1.1648 - val_acc: 0.5429\n",
      "Epoch 9/50\n",
      "377/377 [==============================] - 80s 211ms/step - loss: 1.2552 - acc: 0.4783 - val_loss: 1.1018 - val_acc: 0.5595\n",
      "Epoch 10/50\n",
      "377/377 [==============================] - 83s 219ms/step - loss: 1.2337 - acc: 0.4914 - val_loss: 1.0789 - val_acc: 0.5733\n",
      "Epoch 11/50\n",
      "377/377 [==============================] - 70s 185ms/step - loss: 1.2142 - acc: 0.5021 - val_loss: 1.1043 - val_acc: 0.5655\n",
      "Epoch 12/50\n",
      "377/377 [==============================] - 75s 200ms/step - loss: 1.2006 - acc: 0.5092 - val_loss: 1.0512 - val_acc: 0.5921\n",
      "Epoch 13/50\n",
      "377/377 [==============================] - 85s 225ms/step - loss: 1.1918 - acc: 0.5112 - val_loss: 1.0292 - val_acc: 0.5903\n",
      "Epoch 14/50\n",
      "377/377 [==============================] - 88s 232ms/step - loss: 1.1708 - acc: 0.5239 - val_loss: 1.2131 - val_acc: 0.5278\n",
      "Epoch 15/50\n",
      "377/377 [==============================] - 89s 236ms/step - loss: 1.1613 - acc: 0.5279 - val_loss: 1.0431 - val_acc: 0.5858\n",
      "Epoch 16/50\n",
      "377/377 [==============================] - 83s 220ms/step - loss: 1.1546 - acc: 0.5320 - val_loss: 1.0826 - val_acc: 0.5883\n",
      "Epoch 17/50\n",
      "377/377 [==============================] - 88s 234ms/step - loss: 1.1430 - acc: 0.5377 - val_loss: 1.0074 - val_acc: 0.6047\n",
      "Epoch 18/50\n",
      "377/377 [==============================] - 90s 239ms/step - loss: 1.1311 - acc: 0.5442 - val_loss: 0.9885 - val_acc: 0.6112\n",
      "Epoch 19/50\n",
      "377/377 [==============================] - 80s 211ms/step - loss: 1.1240 - acc: 0.5422 - val_loss: 1.0021 - val_acc: 0.6051\n",
      "Epoch 20/50\n",
      "377/377 [==============================] - 129s 343ms/step - loss: 1.1167 - acc: 0.5475 - val_loss: 0.9756 - val_acc: 0.6227\n",
      "Epoch 21/50\n",
      "377/377 [==============================] - 91s 241ms/step - loss: 1.1146 - acc: 0.5508 - val_loss: 0.9650 - val_acc: 0.6273\n",
      "Epoch 22/50\n",
      "377/377 [==============================] - 81s 216ms/step - loss: 1.1053 - acc: 0.5542 - val_loss: 0.9789 - val_acc: 0.6120\n",
      "Epoch 23/50\n",
      "377/377 [==============================] - 80s 213ms/step - loss: 1.0983 - acc: 0.5618 - val_loss: 0.9482 - val_acc: 0.6278\n",
      "Epoch 24/50\n",
      "377/377 [==============================] - 80s 213ms/step - loss: 1.0918 - acc: 0.5613 - val_loss: 0.9703 - val_acc: 0.6187\n",
      "Epoch 25/50\n",
      "377/377 [==============================] - 79s 210ms/step - loss: 1.0936 - acc: 0.5569 - val_loss: 0.9675 - val_acc: 0.6198\n",
      "Epoch 26/50\n",
      "377/377 [==============================] - 73s 194ms/step - loss: 1.0844 - acc: 0.5604 - val_loss: 1.0088 - val_acc: 0.6017\n",
      "Epoch 27/50\n",
      "377/377 [==============================] - 81s 216ms/step - loss: 1.0872 - acc: 0.5597 - val_loss: 0.9673 - val_acc: 0.6193\n",
      "Epoch 28/50\n",
      "377/377 [==============================] - 78s 208ms/step - loss: 1.0798 - acc: 0.5679 - val_loss: 0.9644 - val_acc: 0.6187\n",
      "Epoch 29/50\n",
      "377/377 [==============================] - 74s 198ms/step - loss: 1.0804 - acc: 0.5665 - val_loss: 0.9495 - val_acc: 0.6356\n",
      "Epoch 30/50\n",
      "377/377 [==============================] - 76s 201ms/step - loss: 1.0786 - acc: 0.5648 - val_loss: 0.9996 - val_acc: 0.6139\n",
      "Epoch 31/50\n",
      "377/377 [==============================] - 72s 190ms/step - loss: 1.0741 - acc: 0.5719 - val_loss: 0.9852 - val_acc: 0.6145\n",
      "Epoch 32/50\n",
      "377/377 [==============================] - 73s 193ms/step - loss: 1.0640 - acc: 0.5743 - val_loss: 0.9602 - val_acc: 0.6235\n",
      "Epoch 33/50\n",
      "377/377 [==============================] - 73s 193ms/step - loss: 1.0629 - acc: 0.5777 - val_loss: 1.0084 - val_acc: 0.6069\n",
      "Epoch 34/50\n",
      "377/377 [==============================] - 72s 192ms/step - loss: 1.0614 - acc: 0.5740 - val_loss: 0.9820 - val_acc: 0.6202\n",
      "Epoch 35/50\n",
      "377/377 [==============================] - 73s 193ms/step - loss: 1.0567 - acc: 0.5754 - val_loss: 1.0063 - val_acc: 0.6024\n",
      "Epoch 36/50\n",
      "377/377 [==============================] - 72s 192ms/step - loss: 1.0577 - acc: 0.5776 - val_loss: 0.9591 - val_acc: 0.6245\n",
      "Epoch 37/50\n",
      "377/377 [==============================] - 74s 196ms/step - loss: 1.0541 - acc: 0.5798 - val_loss: 0.9524 - val_acc: 0.6308\n",
      "Epoch 38/50\n",
      "377/377 [==============================] - 82s 219ms/step - loss: 1.0564 - acc: 0.5768 - val_loss: 0.9653 - val_acc: 0.6192\n",
      "Epoch 39/50\n",
      "377/377 [==============================] - 92s 245ms/step - loss: 1.0527 - acc: 0.5790 - val_loss: 0.9283 - val_acc: 0.6383\n",
      "Epoch 40/50\n",
      "377/377 [==============================] - 83s 220ms/step - loss: 1.0487 - acc: 0.5777 - val_loss: 0.9793 - val_acc: 0.6187\n",
      "Epoch 41/50\n",
      "377/377 [==============================] - 90s 239ms/step - loss: 1.0460 - acc: 0.5835 - val_loss: 0.9411 - val_acc: 0.6288\n",
      "Epoch 42/50\n",
      "377/377 [==============================] - 99s 263ms/step - loss: 1.0438 - acc: 0.5824 - val_loss: 0.9153 - val_acc: 0.6418\n",
      "Epoch 43/50\n",
      "377/377 [==============================] - 91s 242ms/step - loss: 1.0419 - acc: 0.5829 - val_loss: 0.9535 - val_acc: 0.6300\n",
      "Epoch 44/50\n",
      "377/377 [==============================] - 79s 210ms/step - loss: 1.0476 - acc: 0.5863 - val_loss: 0.9331 - val_acc: 0.6345\n",
      "Epoch 45/50\n",
      "377/377 [==============================] - 82s 217ms/step - loss: 1.0420 - acc: 0.5875 - val_loss: 0.9373 - val_acc: 0.6308\n",
      "Epoch 46/50\n",
      "377/377 [==============================] - 98s 261ms/step - loss: 1.0324 - acc: 0.5903 - val_loss: 0.9450 - val_acc: 0.6345\n",
      "Epoch 47/50\n",
      "377/377 [==============================] - 107s 285ms/step - loss: 1.0372 - acc: 0.5863 - val_loss: 0.9475 - val_acc: 0.6328\n",
      "Epoch 48/50\n",
      "377/377 [==============================] - 121s 320ms/step - loss: 1.0441 - acc: 0.5863 - val_loss: 0.9436 - val_acc: 0.6248\n",
      "Epoch 49/50\n",
      "377/377 [==============================] - 86s 229ms/step - loss: 1.0408 - acc: 0.5879 - val_loss: 0.9327 - val_acc: 0.6365\n",
      "Epoch 50/50\n",
      "377/377 [==============================] - 91s 242ms/step - loss: 1.0395 - acc: 0.5878 - val_loss: 0.9318 - val_acc: 0.6328\n"
     ]
    }
   ],
   "source": [
    "history = model.fit_generator(train_generator,\n",
    "                              epochs=50,\n",
    "                              steps_per_epoch=24176//64,\n",
    "                              verbose=1,\n",
    "                              validation_data=validation_generator,\n",
    "                             validation_steps=6043//64,\n",
    "                             callbacks=[callback])"
   ]
  },
  {
   "cell_type": "code",
   "execution_count": 60,
   "metadata": {},
   "outputs": [],
   "source": [
    "model.save('prediction_model.h5')"
   ]
  }
 ],
 "metadata": {
  "kernelspec": {
   "display_name": "Python 3",
   "language": "python",
   "name": "python3"
  },
  "language_info": {
   "codemirror_mode": {
    "name": "ipython",
    "version": 3
   },
   "file_extension": ".py",
   "mimetype": "text/x-python",
   "name": "python",
   "nbconvert_exporter": "python",
   "pygments_lexer": "ipython3",
   "version": "3.7.3"
  }
 },
 "nbformat": 4,
 "nbformat_minor": 2
}
